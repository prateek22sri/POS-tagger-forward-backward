{
 "cells": [
  {
   "cell_type": "markdown",
   "metadata": {},
   "source": [
    "# Tutorial for forward-backward algorithm\n",
    "\n",
    "+ Import numpy for matrix multiplications\n",
    "+ Import pandas just for the visualization of matrices as Data Frames (you don't need for coding the algorithm)\n",
    "+ Import pprint for aesthetic beauty (again you don't need this library)"
   ]
  },
  {
   "cell_type": "code",
   "execution_count": 1,
   "metadata": {
    "collapsed": true
   },
   "outputs": [],
   "source": [
    "import numpy as np\n",
    "import pandas as pd\n",
    "from pprint import pprint"
   ]
  },
  {
   "cell_type": "markdown",
   "metadata": {},
   "source": [
    "Store the text to be parsed."
   ]
  },
  {
   "cell_type": "code",
   "execution_count": 2,
   "metadata": {
    "collapsed": true
   },
   "outputs": [],
   "source": [
    "text = \"a myth is a female moth\""
   ]
  },
  {
   "cell_type": "markdown",
   "metadata": {},
   "source": [
    "### Prior Probability Vector\n",
    "The vector with the initial prior probabilities for transition to DT, JJ, NN and VB respectively."
   ]
  },
  {
   "cell_type": "code",
   "execution_count": 3,
   "metadata": {
    "collapsed": true
   },
   "outputs": [],
   "source": [
    "initp = np.array([.45, .35, .15, .05])"
   ]
  },
  {
   "cell_type": "markdown",
   "metadata": {},
   "source": [
    "### Transition Probability Matrix\n",
    "The transition matrix containing all the transitions from a tag to a tag.\n",
    "For example, it stores something like probability of a word being a noun given the previous word was a noun.\n",
    "Thus, it is a table containing frequency distributions of transition probabilities."
   ]
  },
  {
   "cell_type": "code",
   "execution_count": 4,
   "metadata": {},
   "outputs": [
    {
     "data": {
      "text/html": [
       "<div>\n",
       "<style>\n",
       "    .dataframe thead tr:only-child th {\n",
       "        text-align: right;\n",
       "    }\n",
       "\n",
       "    .dataframe thead th {\n",
       "        text-align: left;\n",
       "    }\n",
       "\n",
       "    .dataframe tbody tr th {\n",
       "        vertical-align: top;\n",
       "    }\n",
       "</style>\n",
       "<table border=\"1\" class=\"dataframe\">\n",
       "  <thead>\n",
       "    <tr style=\"text-align: right;\">\n",
       "      <th></th>\n",
       "      <th>DT</th>\n",
       "      <th>JJ</th>\n",
       "      <th>NN</th>\n",
       "      <th>VB</th>\n",
       "    </tr>\n",
       "  </thead>\n",
       "  <tbody>\n",
       "    <tr>\n",
       "      <th>DT</th>\n",
       "      <td>0.03</td>\n",
       "      <td>0.01</td>\n",
       "      <td>0.07</td>\n",
       "      <td>0.30</td>\n",
       "    </tr>\n",
       "    <tr>\n",
       "      <th>JJ</th>\n",
       "      <td>0.42</td>\n",
       "      <td>0.25</td>\n",
       "      <td>0.03</td>\n",
       "      <td>0.25</td>\n",
       "    </tr>\n",
       "    <tr>\n",
       "      <th>NN</th>\n",
       "      <td>0.50</td>\n",
       "      <td>0.65</td>\n",
       "      <td>0.15</td>\n",
       "      <td>0.15</td>\n",
       "    </tr>\n",
       "    <tr>\n",
       "      <th>VB</th>\n",
       "      <td>0.05</td>\n",
       "      <td>0.09</td>\n",
       "      <td>0.75</td>\n",
       "      <td>0.30</td>\n",
       "    </tr>\n",
       "  </tbody>\n",
       "</table>\n",
       "</div>"
      ],
      "text/plain": [
       "      DT    JJ    NN    VB\n",
       "DT  0.03  0.01  0.07  0.30\n",
       "JJ  0.42  0.25  0.03  0.25\n",
       "NN  0.50  0.65  0.15  0.15\n",
       "VB  0.05  0.09  0.75  0.30"
      ]
     },
     "execution_count": 4,
     "metadata": {},
     "output_type": "execute_result"
    }
   ],
   "source": [
    "tp = np.array([[.03, .42, .5, .05], [.01, .25, .65, .09], [.07, .03, .15, .75], [.3, .25, .15, .3]])\n",
    "\n",
    "tagVector = ['DT','JJ','NN','VB']    \n",
    "\n",
    "######### This is just for visualization #############\n",
    "d = {'DT' : pd.Series([.03,.42,.5,.05], index = ['DT','JJ','NN','VB']),\n",
    "                     'JJ' : pd.Series([.01,.25,.65,.09], index = ['DT','JJ','NN','VB']),\n",
    "                     'NN' : pd.Series([.07,.03,.15,.75], index = ['DT','JJ','NN','VB']),\n",
    "                     'VB' : pd.Series([.3,.25,.15,.3], index = ['DT','JJ','NN','VB'])\n",
    "                    }\n",
    "transition_matrix = pd.DataFrame(d)\n",
    "transition_matrix\n",
    "######################################################"
   ]
  },
  {
   "cell_type": "markdown",
   "metadata": {},
   "source": [
    "### Emission Probability Matrix\n",
    "This matrix contains the probabilities for a word given a tag. For instance, the value in the first cell is 0.84 which is basically the probability of \"a\" when we know that it is Determinant i.e. \"DT\" [P(\"a\"|\"DT\")]"
   ]
  },
  {
   "cell_type": "code",
   "execution_count": 5,
   "metadata": {},
   "outputs": [
    {
     "data": {
      "text/html": [
       "<div>\n",
       "<style>\n",
       "    .dataframe thead tr:only-child th {\n",
       "        text-align: right;\n",
       "    }\n",
       "\n",
       "    .dataframe thead th {\n",
       "        text-align: left;\n",
       "    }\n",
       "\n",
       "    .dataframe tbody tr th {\n",
       "        vertical-align: top;\n",
       "    }\n",
       "</style>\n",
       "<table border=\"1\" class=\"dataframe\">\n",
       "  <thead>\n",
       "    <tr style=\"text-align: right;\">\n",
       "      <th></th>\n",
       "      <th>DT</th>\n",
       "      <th>JJ</th>\n",
       "      <th>NN</th>\n",
       "      <th>VB</th>\n",
       "    </tr>\n",
       "  </thead>\n",
       "  <tbody>\n",
       "    <tr>\n",
       "      <th>a</th>\n",
       "      <td>0.84</td>\n",
       "      <td>0.05</td>\n",
       "      <td>0.03</td>\n",
       "      <td>0.05</td>\n",
       "    </tr>\n",
       "    <tr>\n",
       "      <th>myth</th>\n",
       "      <td>0.01</td>\n",
       "      <td>0.10</td>\n",
       "      <td>0.45</td>\n",
       "      <td>0.10</td>\n",
       "    </tr>\n",
       "    <tr>\n",
       "      <th>is</th>\n",
       "      <td>0.02</td>\n",
       "      <td>0.02</td>\n",
       "      <td>0.02</td>\n",
       "      <td>0.60</td>\n",
       "    </tr>\n",
       "    <tr>\n",
       "      <th>female</th>\n",
       "      <td>0.01</td>\n",
       "      <td>0.70</td>\n",
       "      <td>0.25</td>\n",
       "      <td>0.05</td>\n",
       "    </tr>\n",
       "    <tr>\n",
       "      <th>moth</th>\n",
       "      <td>0.12</td>\n",
       "      <td>0.13</td>\n",
       "      <td>0.25</td>\n",
       "      <td>0.20</td>\n",
       "    </tr>\n",
       "  </tbody>\n",
       "</table>\n",
       "</div>"
      ],
      "text/plain": [
       "          DT    JJ    NN    VB\n",
       "a       0.84  0.05  0.03  0.05\n",
       "myth    0.01  0.10  0.45  0.10\n",
       "is      0.02  0.02  0.02  0.60\n",
       "female  0.01  0.70  0.25  0.05\n",
       "moth    0.12  0.13  0.25  0.20"
      ]
     },
     "execution_count": 5,
     "metadata": {},
     "output_type": "execute_result"
    }
   ],
   "source": [
    "ep = np.array([[.84, .05, .03, .05], [.01, .1, .45, .1], [.02, .02, .02, .6], [.84, .05, .03, .05],[.01, .7, .25, .05], [.12, .13, .25, .2]])\n",
    "######### This is just for visualization #############\n",
    "e = {'DT' : pd.Series([.84,.01,.02,.01,.12], index = ['a','myth','is','female','moth']),\n",
    "     'JJ' : pd.Series([.05,.1,.02,.7,.13], index = ['a','myth','is','female','moth']),\n",
    "     'NN' : pd.Series([.03,.45,.02,.25,.25], index = ['a','myth','is','female','moth']),\n",
    "     'VB' : pd.Series([.05,.1,.6,.05,.2], index = ['a','myth','is','female','moth'])}\n",
    "emission_matrix = pd.DataFrame(e)\n",
    "emission_matrix\n",
    "######################################################"
   ]
  },
  {
   "cell_type": "markdown",
   "metadata": {},
   "source": [
    "### Forward Algorithm(Alpha Table)\n",
    "This algorithm calculates all the probabilities for the sequence of words and stores it in a dictionary. In this case, the text \"a myth is a female moth\", \"a\" becomes t=0, \"myth\" becomes t=1, and so on. So for each t_i the value of the probabilities of a Tag given the word is stored in the forward table which is shown below. For the visualization part some tweak has been done just for a better understanding of the table."
   ]
  },
  {
   "cell_type": "code",
   "execution_count": 6,
   "metadata": {},
   "outputs": [
    {
     "data": {
      "text/html": [
       "<div>\n",
       "<style>\n",
       "    .dataframe thead tr:only-child th {\n",
       "        text-align: right;\n",
       "    }\n",
       "\n",
       "    .dataframe thead th {\n",
       "        text-align: left;\n",
       "    }\n",
       "\n",
       "    .dataframe tbody tr th {\n",
       "        vertical-align: top;\n",
       "    }\n",
       "</style>\n",
       "<table border=\"1\" class=\"dataframe\">\n",
       "  <thead>\n",
       "    <tr style=\"text-align: right;\">\n",
       "      <th></th>\n",
       "      <th>a</th>\n",
       "      <th>myth</th>\n",
       "      <th>is</th>\n",
       "      <th>a</th>\n",
       "      <th>female</th>\n",
       "      <th>moth</th>\n",
       "    </tr>\n",
       "  </thead>\n",
       "  <tbody>\n",
       "    <tr>\n",
       "      <th>DT</th>\n",
       "      <td>0.035700</td>\n",
       "      <td>0.000050</td>\n",
       "      <td>0.000030</td>\n",
       "      <td>0.001688</td>\n",
       "      <td>8.465402e-07</td>\n",
       "      <td>0.000003</td>\n",
       "    </tr>\n",
       "    <tr>\n",
       "      <th>JJ</th>\n",
       "      <td>0.014675</td>\n",
       "      <td>0.002137</td>\n",
       "      <td>0.000028</td>\n",
       "      <td>0.000085</td>\n",
       "      <td>5.299198e-04</td>\n",
       "      <td>0.000018</td>\n",
       "    </tr>\n",
       "    <tr>\n",
       "      <th>NN</th>\n",
       "      <td>0.014475</td>\n",
       "      <td>0.013915</td>\n",
       "      <td>0.000075</td>\n",
       "      <td>0.000031</td>\n",
       "      <td>2.298448e-04</td>\n",
       "      <td>0.000095</td>\n",
       "    </tr>\n",
       "    <tr>\n",
       "      <th>VB</th>\n",
       "      <td>0.009075</td>\n",
       "      <td>0.001668</td>\n",
       "      <td>0.006679</td>\n",
       "      <td>0.000103</td>\n",
       "      <td>7.326456e-06</td>\n",
       "      <td>0.000044</td>\n",
       "    </tr>\n",
       "  </tbody>\n",
       "</table>\n",
       "</div>"
      ],
      "text/plain": [
       "           a      myth        is         a        female      moth\n",
       "DT  0.035700  0.000050  0.000030  0.001688  8.465402e-07  0.000003\n",
       "JJ  0.014675  0.002137  0.000028  0.000085  5.299198e-04  0.000018\n",
       "NN  0.014475  0.013915  0.000075  0.000031  2.298448e-04  0.000095\n",
       "VB  0.009075  0.001668  0.006679  0.000103  7.326456e-06  0.000044"
      ]
     },
     "execution_count": 6,
     "metadata": {},
     "output_type": "execute_result"
    }
   ],
   "source": [
    "# forward algo\n",
    "forward = np.zeros((6, 4))\n",
    "for t in range(0, len(text.split())):\n",
    "    if t == 0:\n",
    "        tmp = np.dot(initp, tp)\n",
    "        forward[t] = tmp * ep[t]\n",
    "    else:\n",
    "        tmp = np.dot(forward[t - 1], tp)\n",
    "        forward[t] = tmp * ep[t]\n",
    "######### This is just for visualization #############\n",
    "pd.DataFrame(np.transpose(forward),columns=text.split(),index=['DT','JJ','NN','VB'])\n",
    "######################################################"
   ]
  },
  {
   "cell_type": "markdown",
   "metadata": {},
   "source": [
    "### Backward Algorithm(Beta Table)\n",
    "This algorithm works exactly the same way as the forward algorithm works. The only difference is that in the forward algorithm, we have the prior probability vector while in this algorithm, we assume that the vector is [1,1,1,1]."
   ]
  },
  {
   "cell_type": "code",
   "execution_count": 7,
   "metadata": {},
   "outputs": [
    {
     "data": {
      "text/html": [
       "<div>\n",
       "<style>\n",
       "    .dataframe thead tr:only-child th {\n",
       "        text-align: right;\n",
       "    }\n",
       "\n",
       "    .dataframe thead th {\n",
       "        text-align: left;\n",
       "    }\n",
       "\n",
       "    .dataframe tbody tr th {\n",
       "        vertical-align: top;\n",
       "    }\n",
       "</style>\n",
       "<table border=\"1\" class=\"dataframe\">\n",
       "  <thead>\n",
       "    <tr style=\"text-align: right;\">\n",
       "      <th></th>\n",
       "      <th>a</th>\n",
       "      <th>myth</th>\n",
       "      <th>is</th>\n",
       "      <th>a</th>\n",
       "      <th>female</th>\n",
       "      <th>moth</th>\n",
       "    </tr>\n",
       "  </thead>\n",
       "  <tbody>\n",
       "    <tr>\n",
       "      <th>DT</th>\n",
       "      <td>0.000024</td>\n",
       "      <td>0.000005</td>\n",
       "      <td>0.000023</td>\n",
       "      <td>0.008104</td>\n",
       "      <td>0.000995</td>\n",
       "      <td>0.0492</td>\n",
       "    </tr>\n",
       "    <tr>\n",
       "      <th>JJ</th>\n",
       "      <td>0.000002</td>\n",
       "      <td>0.000045</td>\n",
       "      <td>0.000089</td>\n",
       "      <td>0.001384</td>\n",
       "      <td>0.085340</td>\n",
       "      <td>0.1235</td>\n",
       "    </tr>\n",
       "    <tr>\n",
       "      <th>NN</th>\n",
       "      <td>0.000002</td>\n",
       "      <td>0.000150</td>\n",
       "      <td>0.000112</td>\n",
       "      <td>0.001979</td>\n",
       "      <td>0.048737</td>\n",
       "      <td>0.3625</td>\n",
       "    </tr>\n",
       "    <tr>\n",
       "      <th>VB</th>\n",
       "      <td>0.000007</td>\n",
       "      <td>0.000059</td>\n",
       "      <td>0.001655</td>\n",
       "      <td>0.002482</td>\n",
       "      <td>0.017842</td>\n",
       "      <td>0.2380</td>\n",
       "    </tr>\n",
       "  </tbody>\n",
       "</table>\n",
       "</div>"
      ],
      "text/plain": [
       "           a      myth        is         a    female    moth\n",
       "DT  0.000024  0.000005  0.000023  0.008104  0.000995  0.0492\n",
       "JJ  0.000002  0.000045  0.000089  0.001384  0.085340  0.1235\n",
       "NN  0.000002  0.000150  0.000112  0.001979  0.048737  0.3625\n",
       "VB  0.000007  0.000059  0.001655  0.002482  0.017842  0.2380"
      ]
     },
     "execution_count": 7,
     "metadata": {},
     "output_type": "execute_result"
    }
   ],
   "source": [
    "# backward algo\n",
    "backward = np.zeros((6, 4))\n",
    "inp = np.array([1, 1, 1, 1])\n",
    "l = len(text.split()) - 1\n",
    "for t in range(l, -1, -1):\n",
    "    if t == l:\n",
    "        tmp = np.dot(inp, tp)\n",
    "        backward[t] = tmp * ep[t]\n",
    "    else:\n",
    "        tmp = np.dot(backward[t + 1], tp)\n",
    "        backward[t] = tmp * ep[t]\n",
    "######### This is just for visualization #############\n",
    "pd.DataFrame(np.transpose(backward),columns=text.split(),index=['DT','JJ','NN','VB'])\n",
    "######################################################"
   ]
  },
  {
   "cell_type": "markdown",
   "metadata": {},
   "source": [
    "### Gamma Table\n",
    "Smoothing of both alpha(forward) table and beta(backward) into gamma table i.e. multiplying the corresponding elements of both the tables."
   ]
  },
  {
   "cell_type": "code",
   "execution_count": 8,
   "metadata": {},
   "outputs": [
    {
     "data": {
      "text/html": [
       "<div>\n",
       "<style>\n",
       "    .dataframe thead tr:only-child th {\n",
       "        text-align: right;\n",
       "    }\n",
       "\n",
       "    .dataframe thead th {\n",
       "        text-align: left;\n",
       "    }\n",
       "\n",
       "    .dataframe tbody tr th {\n",
       "        vertical-align: top;\n",
       "    }\n",
       "</style>\n",
       "<table border=\"1\" class=\"dataframe\">\n",
       "  <thead>\n",
       "    <tr style=\"text-align: right;\">\n",
       "      <th></th>\n",
       "      <th>a</th>\n",
       "      <th>myth</th>\n",
       "      <th>is</th>\n",
       "      <th>a</th>\n",
       "      <th>female</th>\n",
       "      <th>moth</th>\n",
       "    </tr>\n",
       "  </thead>\n",
       "  <tbody>\n",
       "    <tr>\n",
       "      <th>DT</th>\n",
       "      <td>8.643067e-07</td>\n",
       "      <td>2.506117e-10</td>\n",
       "      <td>6.828213e-10</td>\n",
       "      <td>1.368312e-05</td>\n",
       "      <td>8.421890e-10</td>\n",
       "      <td>1.394033e-07</td>\n",
       "    </tr>\n",
       "    <tr>\n",
       "      <th>JJ</th>\n",
       "      <td>2.392304e-08</td>\n",
       "      <td>9.589742e-08</td>\n",
       "      <td>2.461877e-09</td>\n",
       "      <td>1.170302e-07</td>\n",
       "      <td>4.522325e-05</td>\n",
       "      <td>2.272785e-06</td>\n",
       "    </tr>\n",
       "    <tr>\n",
       "      <th>NN</th>\n",
       "      <td>2.740280e-08</td>\n",
       "      <td>2.091918e-06</td>\n",
       "      <td>8.433021e-09</td>\n",
       "      <td>6.209630e-08</td>\n",
       "      <td>1.120206e-05</td>\n",
       "      <td>3.447800e-05</td>\n",
       "    </tr>\n",
       "    <tr>\n",
       "      <th>VB</th>\n",
       "      <td>6.114052e-08</td>\n",
       "      <td>9.842366e-08</td>\n",
       "      <td>1.105308e-05</td>\n",
       "      <td>2.561084e-07</td>\n",
       "      <td>1.307223e-07</td>\n",
       "      <td>1.058227e-05</td>\n",
       "    </tr>\n",
       "  </tbody>\n",
       "</table>\n",
       "</div>"
      ],
      "text/plain": [
       "               a          myth            is             a        female  \\\n",
       "DT  8.643067e-07  2.506117e-10  6.828213e-10  1.368312e-05  8.421890e-10   \n",
       "JJ  2.392304e-08  9.589742e-08  2.461877e-09  1.170302e-07  4.522325e-05   \n",
       "NN  2.740280e-08  2.091918e-06  8.433021e-09  6.209630e-08  1.120206e-05   \n",
       "VB  6.114052e-08  9.842366e-08  1.105308e-05  2.561084e-07  1.307223e-07   \n",
       "\n",
       "            moth  \n",
       "DT  1.394033e-07  \n",
       "JJ  2.272785e-06  \n",
       "NN  3.447800e-05  \n",
       "VB  1.058227e-05  "
      ]
     },
     "execution_count": 8,
     "metadata": {},
     "output_type": "execute_result"
    }
   ],
   "source": [
    "gamma = np.zeros((5, 4))\n",
    "gamma = forward * backward\n",
    "######### This is just for visualization #############\n",
    "pd.DataFrame(np.transpose(gamma),columns=text.split(),index=['DT','JJ','NN','VB'])\n",
    "######################################################"
   ]
  },
  {
   "cell_type": "markdown",
   "metadata": {},
   "source": [
    "## Note: \n",
    "This is the final table which will basically tell the sequence of the tags for the text. However, the values cannot be considered to be probabilities in this case. It is because they won't sum up to 1. The reason they don't is intentional. Technically, while making the backward table, each column was supposed to be normalized so that they would have summed up to 1, and similarly, in the gamma table, after multiplication the values for each column was to be normalized so that they summed up to one. We neglected that because we don't care that a certain word is a noun by what probability. We just care whether it is a noun, verb or some other tag. The normalization makes the algorithm computation intensive without giving any fruitful information and that is why it is neglected."
   ]
  }
 ],
 "metadata": {
  "kernelspec": {
   "display_name": "Python 3",
   "language": "python",
   "name": "python3"
  },
  "language_info": {
   "codemirror_mode": {
    "name": "ipython",
    "version": 3
   },
   "file_extension": ".py",
   "mimetype": "text/x-python",
   "name": "python",
   "nbconvert_exporter": "python",
   "pygments_lexer": "ipython3",
   "version": "3.6.1"
  }
 },
 "nbformat": 4,
 "nbformat_minor": 2
}
